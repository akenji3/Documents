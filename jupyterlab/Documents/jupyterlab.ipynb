{
 "cells": [
  {
   "cell_type": "markdown",
   "metadata": {},
   "source": [
    "# jupyterlabをsingularityコンテナで起動する\n",
    "## 1.目的\n",
    "- Jupyterlabコンテナをサーバで起動し、リモートのMBPでjupyterlabを使う\n",
    "- コンテナは、dockerも作成するが、日常の仕様はsingularityをする。\n",
    "- 今回は、家庭内のLAN環境内での使用とする。"
   ]
  },
  {
   "cell_type": "markdown",
   "metadata": {},
   "source": [
    "## 2. 使用環境\n",
    "### (1)サーバ（HP-Z820）\n",
    "- GPU0: Geforce GTX 1080\n",
    "- GPU1: Quadro K2000\n",
    "- driver ver.: 440.95.01\n",
    "- Ubuntu 18.04.4 LTS\n",
    "\n",
    "### (2)クライアント（Mac Book Pro）\n",
    "- macOS Catalina 10.15.5"
   ]
  },
  {
   "cell_type": "markdown",
   "metadata": {},
   "source": [
    "## 3. 参考ページ\n",
    "[この記事](https://qiita.com/radiol/items/48909d69ba8114edcbf2)を参考にした。 大変参考になった、感謝。"
   ]
  },
  {
   "cell_type": "markdown",
   "metadata": {},
   "source": [
    "## 4. 手順\n",
    "### (1) 作業用ディレクトリを作成、必要ファイルの準備\n",
    "```\n",
    "$ mkdir pytorch-lab\n",
    "$ cd pytorch-lab\n",
    "```\n",
    "上記の参考記事を参考に、Dockerfileをこのディレクトリに作成。ベースとなるイメージは、ドライバーバージョンに合う比較的に新しいCUDAバージョンアップのpytorchを選択した。以下がDockerfileの内容。\n"
   ]
  },
  {
   "cell_type": "markdown",
   "metadata": {},
   "source": [
    "```$ cat Dockerfile\n",
    "FROM pytorch/pytorch:1.5.1-cuda10.1-cudnn7-runtime\n",
    "\n",
    "# Install required libraries\n",
    "RUN conda config --add channels pytorch \\\n",
    " && conda config --append channels conda-forge \\\n",
    " && conda update --all --yes --quiet \\\n",
    " && conda install --yes --quiet \\\n",
    "    ipywidgets \\\n",
    "    jupyterlab \\\n",
    "    matplotlib \\\n",
    "    nodejs \\\n",
    "    opencv \\\n",
    "    pandas \\\n",
    "    scikit-learn \\\n",
    "    seaborn \\\n",
    "    sympy \\\n",
    " && conda clean --all -f -y\n",
    "\n",
    "# Install jupyter extensions\n",
    "RUN jupyter nbextension enable --py --sys-prefix widgetsnbextension \\\n",
    " && jupyter labextension install @jupyter-widgets/jupyterlab-manager\n",
    "\n",
    "COPY jupyter_notebook_config.py /root/.jupyter/\n",
    "\n",
    "```"
   ]
  },
  {
   "cell_type": "markdown",
   "metadata": {},
   "source": [
    "同じく、上記の記事を参考に、jupyter_notebook_config.pyを作業用ディレクトリに配置。  \n",
    "\n",
    "記事のとおり、以下の2行を追加した。\n",
    "c.NotebookApp.allow_root = True\n",
    "c.NotebookApp.password = 'sha1:・・・'\n"
   ]
  },
  {
   "cell_type": "markdown",
   "metadata": {},
   "source": [
    "「sh1:」以下のハッシュ値は、次のようにして求めた。　自分の環境には、ipythonが入っていなかったので、先ずはipythonをインストール。\n",
    "```\n",
    "$ sudo apt install ipython\n",
    "```\n",
    "\n",
    "次に、ハッシュ値を得て、jupyter_notebook_config.pyに挿入した。\n",
    "```\n",
    "$ ipython\n",
    "\n",
    "In [1]: from IPython.lib import passwd\n",
    "\n",
    "In [2]: passwd()\n",
    "Enter password:\n",
    "Verify password:\n",
    "Out[2]: 'sha1:ここにハッシュ値が表示されている'\n",
    "```"
   ]
  },
  {
   "cell_type": "markdown",
   "metadata": {},
   "source": [
    "```\n",
    "# Copyright (c) Jupyter Development Team.\n",
    "# Distributed under the terms of the Modified BSD License.\n",
    "\n",
    "from jupyter_core.paths import jupyter_data_dir\n",
    "import subprocess\n",
    "import os\n",
    "import errno\n",
    "import stat\n",
    "\n",
    "c = get_config()\n",
    "c.NotebookApp.ip = '0.0.0.0'\n",
    "c.NotebookApp.port = 8888\n",
    "c.NotebookApp.open_browser = False\n",
    "c.NotebookApp.allow_root = True\n",
    "c.NotebookApp.password = 'sha1:ce60f68cef4d:5447853c136a04ffaa1c0a4d1fc616564d9941bc'\n",
    "\n",
    "# https://github.com/jupyter/notebook/issues/3130\n",
    "c.FileContentsManager.delete_to_trash = False\n",
    "\n",
    "# Generate a self-signed certificate\n",
    "if 'GEN_CERT' in os.environ:\n",
    "    dir_name = jupyter_data_dir()\n",
    "    pem_file = os.path.join(dir_name, 'notebook.pem')\n",
    "    try:\n",
    "        os.makedirs(dir_name)\n",
    "    except OSError as exc:  # Python >2.5\n",
    "        if exc.errno == errno.EEXIST and os.path.isdir(dir_name):\n",
    "            pass\n",
    "        else:\n",
    "            raise\n",
    "\n",
    "    # Generate an openssl.cnf file to set the distinguished name\n",
    "    cnf_file = os.path.join(os.getenv('CONDA_DIR', '/usr/lib'), 'ssl', 'openssl.cnf')\n",
    "    if not os.path.isfile(cnf_file):\n",
    "        with open(cnf_file, 'w') as fh:\n",
    "            fh.write('''\\\n",
    "[req]\n",
    "distinguished_name = req_distinguished_name\n",
    "[req_distinguished_name]\n",
    "''')\n",
    "\n",
    "    # Generate a certificate if one doesn't exist on disk\n",
    "    subprocess.check_call(['openssl', 'req', '-new',\n",
    "                           '-newkey', 'rsa:2048',\n",
    "                           '-days', '365',\n",
    "                           '-nodes', '-x509',\n",
    "                           '-subj', '/C=XX/ST=XX/L=XX/O=generated/CN=generated',\n",
    "                           '-keyout', pem_file,\n",
    "                           '-out', pem_file])\n",
    "    # Restrict access to the file\n",
    "    os.chmod(pem_file, stat.S_IRUSR | stat.S_IWUSR)\n",
    "    c.NotebookApp.certfile = pem_file\n",
    "\n",
    "# Change default umask for all subprocesses of the notebook server if set in\n",
    "# the environment\n",
    "if 'NB_UMASK' in os.environ:\n",
    "    os.umask(int(os.environ['NB_UMASK'], 8))\n",
    "```"
   ]
  },
  {
   "cell_type": "markdown",
   "metadata": {},
   "source": [
    "### (2) Dockerイメージの作成と確認\n",
    "- Dockerイメージをビルドする\n",
    "```\n",
    "$ sudo docker build -t pytorch-lab ./\n",
    "```\n",
    "\n",
    "\n",
    "- Dockerイメージを起動\n",
    "```\n",
    "$ sudo docker run -d --rm --gpus all -v ~/ml:/workspace -p 8888:8888 --name pytorch pytorch-lab jupyter lab\n",
    "```\n",
    "\n",
    "\n",
    "- サーバ上の（ローカルの）ブラウザで、```http://localhost:8888```と入力し、接続する。\n",
    "- パスワード入力「log in」を押下すると、jupyterが起動される。"
   ]
  },
  {
   "cell_type": "markdown",
   "metadata": {},
   "source": [
    "### (3) singularityイメージの作成\n",
    "- dockerイメージからsingularityイメージを作成\n",
    "\n",
    "ローカルdockerファイルを指定する場合には、```docker-daemon:```とする。\n",
    "```\n",
    "$ sudo singularity build pytorch-lab.sif docker-daemon://pytorch-lab:latest\n",
    "```"
   ]
  },
  {
   "cell_type": "markdown",
   "metadata": {},
   "source": [
    "### (4) singularityコンテナの起動とローカルから接続確認\n",
    "- 作成したsingularityイメージを起動する。\n",
    "```\n",
    "$ singularity exec --nv sifs/pytorch-lab.sif jupyter lab\n",
    "```\n",
    "\n",
    "- ローカルのブラウザから接続確認\n",
    "ローカルサーバ上のブラウザで、```http://localhost:8888```と入力するご、パスワード入力画面が開いた。\n",
    "\n",
    "パスワードを入力してもうまく行かず、TOKENを入力したらうまく行った。"
   ]
  },
  {
   "cell_type": "markdown",
   "metadata": {},
   "source": [
    "### (5) リモートからの接続\n",
    "- リモート（Mac Book Pro）で、jupyterlabを使う\n",
    "\n",
    "以下は、MBP側での操作。\n",
    "\n",
    "```\n",
    "$ ssh -N -L 8888:localhost:8888 user名@サーバのIPアドレス\n",
    "```\n",
    "\n",
    "サーバのuser名に対するパスワードを入力する。\n",
    "\n",
    "次に、MBPのブラウザで、```http://localhost:8888```と入力すると、接続できた。\n",
    "\n",
    "ここでも、パスワードではなく、TOKENしか受け付けないようだ。"
   ]
  },
  {
   "cell_type": "markdown",
   "metadata": {},
   "source": [
    "### (6) サーバでのsinguralityコンテナ起動コマンド\n",
    "```$HOME/bin```には、PATHが通っており、ファイルには実行権が付いて前提で、以下のとおり。\n",
    "```\n",
    "$cat $HOME/bin/jupyterlab\n",
    "cd $HOME/jupyterlab\n",
    "export SINGULARITYENV_CUDA_VISIBLE_DEVICES=0\n",
    "singularity exec --nv $HOME/sifs/pytorch-lab.sif jupyter lab\n",
    "```\n",
    "\n",
    "```$HOME/jupyterlab```に作成したノートが保存される。"
   ]
  },
  {
   "cell_type": "code",
   "execution_count": null,
   "metadata": {},
   "outputs": [],
   "source": []
  }
 ],
 "metadata": {
  "kernelspec": {
   "display_name": "Python 3",
   "language": "python",
   "name": "python3"
  },
  "language_info": {
   "codemirror_mode": {
    "name": "ipython",
    "version": 3
   },
   "file_extension": ".py",
   "mimetype": "text/x-python",
   "name": "python",
   "nbconvert_exporter": "python",
   "pygments_lexer": "ipython3",
   "version": "3.7.7"
  }
 },
 "nbformat": 4,
 "nbformat_minor": 4
}
